{
 "cells": [
  {
   "cell_type": "code",
   "execution_count": 1,
   "metadata": {
    "id": "Nl60zpilBlws"
   },
   "outputs": [],
   "source": [
    "# Importing all the required libraries \n",
    "\n",
    "import matplotlib.pyplot as plt\n",
    "%matplotlib inline\n",
    "import cv2                 \n",
    "import numpy as np         \n",
    "import os                  \n",
    "from random import shuffle \n",
    "from tqdm import tqdm      \n",
    "from sklearn.metrics import accuracy_score\n",
    "import pandas as pd\n",
    "import matplotlib.pyplot as plt\n",
    "import tensorflow as tf\n",
    "from PIL import Image\n",
    "from sklearn.model_selection import train_test_split\n",
    "from keras.utils import to_categorical\n",
    "from keras.models import Sequential, load_model\n",
    "from keras.layers import Conv2D, MaxPool2D, Dense, Flatten, Dropout"
   ]
  },
  {
   "cell_type": "code",
   "execution_count": 2,
   "metadata": {
    "id": "mqd9HMutB2i2"
   },
   "outputs": [],
   "source": [
    "# Loading the dataset\n",
    "\n",
    "TRAIN_DIR = 'C:/Users/hp/Downloads/PlantDiseaseDetection-master/PlantDiseaseDetection-master/train/train'\n",
    "IMG_SIZE = 50"
   ]
  },
  {
   "cell_type": "code",
   "execution_count": 3,
   "metadata": {
    "colab": {
     "base_uri": "https://localhost:8080/"
    },
    "id": "DSSlWA3jCXJD",
    "outputId": "36f04998-b54f-49d0-af9d-0369b263c964"
   },
   "outputs": [
    {
     "name": "stderr",
     "output_type": "stream",
     "text": [
      "100%|█████████████████████████████████████████████████████████████████████████████| 4000/4000 [00:12<00:00, 326.83it/s]\n"
     ]
    }
   ],
   "source": [
    "# Preprocessing and converting into arrays\n",
    "\n",
    "labels = []\n",
    "def label_img(img):\n",
    "    word_label = img[0]\n",
    "    if word_label == 'h': return 0\n",
    "    elif word_label == 'b': return 1\n",
    "    elif word_label == 'v': return 2\n",
    "    elif word_label == 'l': return 3\n",
    "\n",
    "    \n",
    "def create_train_data():\n",
    "    training_data = []\n",
    "    IMG_SIZE = 50\n",
    "    \n",
    "    for img in tqdm(os.listdir(TRAIN_DIR)):\n",
    "        label = label_img(img[0])\n",
    "        path = os.path.join(TRAIN_DIR,img)\n",
    "        img = cv2.imread(path,cv2.IMREAD_COLOR)\n",
    "        img = cv2.resize(img, (IMG_SIZE,IMG_SIZE))\n",
    "        training_data.append(np.array(img))\n",
    "        labels.append(label)\n",
    "    return training_data\n",
    "\n",
    "train_data = create_train_data()\n"
   ]
  },
  {
   "cell_type": "code",
   "execution_count": 4,
   "metadata": {},
   "outputs": [
    {
     "name": "stdout",
     "output_type": "stream",
     "text": [
      "Number of images in dataset = 4000\n",
      "Number Of classes in dataset = 4\n",
      "The labels of the classes are = {0, 1, 2, 3}\n"
     ]
    }
   ],
   "source": [
    "# Data Analysis\n",
    "\n",
    "print(\"Number of images in dataset = \" + str(len(train_data)))\n",
    "\n",
    "print(\"Number Of classes in dataset = \" + str(len(set(labels))))\n",
    "\n",
    "print(\"The labels of the classes are = \" + str(set(labels)))"
   ]
  },
  {
   "cell_type": "code",
   "execution_count": null,
   "metadata": {},
   "outputs": [],
   "source": [
    " countOfHealthyImages = labels.count(0)\n",
    "\n",
    "print(\"Count of leaf images that belong to Healthy class = \" + str(countOfHealthyImages))"
   ]
  },
  {
   "cell_type": "code",
   "execution_count": 5,
   "metadata": {},
   "outputs": [
    {
     "name": "stdout",
     "output_type": "stream",
     "text": [
      "Count of leaf images that belong to Bacteria Class = 1000\n"
     ]
    }
   ],
   "source": [
    "countOfBacteriaImages = labels.count(1)\n",
    "\n",
    "print(\"Count of leaf images that belong to Bacteria Class = \" + str(countOfBacteriaImages))"
   ]
  },
  {
   "cell_type": "code",
   "execution_count": 6,
   "metadata": {},
   "outputs": [
    {
     "name": "stdout",
     "output_type": "stream",
     "text": [
      "Count of leaf images that belong to Virus Class = 1000\n"
     ]
    }
   ],
   "source": [
    "countOfViralImages = labels.count(2)\n",
    "\n",
    "print(\"Count of leaf images that belong to Virus Class = \" + str(countOfViralImages))"
   ]
  },
  {
   "cell_type": "code",
   "execution_count": 7,
   "metadata": {},
   "outputs": [
    {
     "name": "stdout",
     "output_type": "stream",
     "text": [
      "Count of leaf images that belong to LateBlight Class = 1000\n"
     ]
    }
   ],
   "source": [
    "countOfLateBlightImages = labels.count(2)\n",
    "\n",
    "print(\"Count of leaf images that belong to LateBlight Class = \" + str(countOfLateBlightImages))"
   ]
  },
  {
   "cell_type": "code",
   "execution_count": 8,
   "metadata": {
    "id": "qMEHI1upS5OG"
   },
   "outputs": [],
   "source": [
    "data = np.array(train_data)\n",
    "\n",
    "labels = np.array(labels)\n"
   ]
  },
  {
   "cell_type": "code",
   "execution_count": 9,
   "metadata": {},
   "outputs": [
    {
     "name": "stdout",
     "output_type": "stream",
     "text": [
      "Shape of data :(4000, 50, 50, 3)\n",
      "Shape of labels :(4000,)\n"
     ]
    }
   ],
   "source": [
    "print(\"Shape of data :\" + str(data.shape))\n",
    "print(\"Shape of labels :\" + str(labels.shape))"
   ]
  },
  {
   "cell_type": "code",
   "execution_count": 10,
   "metadata": {},
   "outputs": [],
   "source": [
    "# Splitting data into training and testing data\n",
    "\n",
    "X_train, X_test, y_train, y_test = train_test_split(data, labels, test_size=0.2, random_state=42, stratify = labels)\n"
   ]
  },
  {
   "cell_type": "code",
   "execution_count": 11,
   "metadata": {},
   "outputs": [
    {
     "data": {
      "image/png": "[encoded data removed]",
      "text/plain": [
       "<Figure size 432x288 with 1 Axes>"
      ]
     },
     "metadata": {
      "needs_background": "light"
     },
     "output_type": "display_data"
    }
   ],
   "source": [
    "#Viasualization of training and testing data\n",
    "\n",
    "_, train_counts = np.unique(y_train, return_counts=True)\n",
    "_, test_counts = np.unique(y_test, return_counts=True)\n",
    "pd.DataFrame({'train': train_counts,\n",
    "                    'test': test_counts}, \n",
    "             index= [\"Healthy\", \"Bacteria\", \"Viral\", \"LateBlight\"]\n",
    "            ).plot.bar()\n",
    "plt.show()"
   ]
  },
  {
   "cell_type": "code",
   "execution_count": 12,
   "metadata": {},
   "outputs": [
    {
     "data": {
      "image/png": "[encoded data removed]",
      "text/plain": [
       "<Figure size 432x288 with 1 Axes>"
      ]
     },
     "metadata": {},
     "output_type": "display_data"
    }
   ],
   "source": [
    "plt.pie(train_counts,\n",
    "        explode=(0, 0, 0, 0) , \n",
    "        labels= [\"Healthy\", \"Bacteria\", \"Viral\", \"LateBlight\"],\n",
    "        autopct='%1.1f%%')\n",
    "plt.axis('equal')\n",
    "plt.title('Proportion of each observed category in Train data')\n",
    "plt.show()"
   ]
  },
  {
   "cell_type": "code",
   "execution_count": 13,
   "metadata": {},
   "outputs": [
    {
     "data": {
      "image/png": "[encoded data removed]",
      "text/plain": [
       "<Figure size 432x288 with 1 Axes>"
      ]
     },
     "metadata": {},
     "output_type": "display_data"
    }
   ],
   "source": [
    "plt.pie(test_counts,\n",
    "        explode=(0, 0, 0, 0) , \n",
    "        labels= [\"Healthy\", \"Bacteria\", \"Viral\", \"LateBlight\"],\n",
    "        autopct='%1.1f%%')\n",
    "plt.axis('equal')\n",
    "plt.title('Proportion of each observed category in Test data')\n",
    "plt.show()"
   ]
  },
  {
   "cell_type": "code",
   "execution_count": 14,
   "metadata": {},
   "outputs": [
    {
     "name": "stdout",
     "output_type": "stream",
     "text": [
      "Shape of X_train :(3200, 50, 50, 3)\n",
      "Shape of X_test :(800, 50, 50, 3)\n",
      "Shape of y_train :(3200,)\n",
      "Shape of y_test :(800,)\n"
     ]
    }
   ],
   "source": [
    "\n",
    "print(\"Shape of X_train :\" + str(X_train.shape))\n",
    "print(\"Shape of X_test :\" + str(X_test.shape))\n",
    "print(\"Shape of y_train :\" + str(y_train.shape))\n",
    "print(\"Shape of y_test :\" + str(y_test.shape))"
   ]
  },
  {
   "cell_type": "code",
   "execution_count": 15,
   "metadata": {},
   "outputs": [],
   "source": [
    "#Converting labels to categorical values\n",
    "\n",
    "y_train = to_categorical(y_train, 4)\n",
    "\n",
    "y_test = to_categorical(y_test, 4)\n"
   ]
  },
  {
   "cell_type": "code",
   "execution_count": 16,
   "metadata": {},
   "outputs": [],
   "source": [
    "# Constructing Sequential Classifier\n",
    "\n",
    "Classifier = Sequential()\n",
    "\n",
    "Classifier.add(Conv2D(filters=32, kernel_size=(5,5), activation='relu', input_shape=X_train.shape[1:]))\n",
    "\n",
    "Classifier.add(Conv2D(filters=32, kernel_size=(5,5), activation='relu'))\n",
    "\n",
    "Classifier.add(MaxPool2D(pool_size=(2, 2)))\n",
    "\n",
    "Classifier.add(Dropout(rate=0.25))\n",
    "\n",
    "Classifier.add(Conv2D(filters=64, kernel_size=(3, 3), activation='relu'))\n",
    "\n",
    "Classifier.add(Conv2D(filters=64, kernel_size=(3, 3), activation='relu'))\n",
    "\n",
    "Classifier.add(MaxPool2D(pool_size=(2, 2)))\n",
    "\n",
    "Classifier.add(Dropout(rate=0.25))\n",
    "\n",
    "Classifier.add(Flatten())\n",
    "\n",
    "Classifier.add(Dense(256, activation='relu'))\n",
    "\n",
    "Classifier.add(Dropout(rate=0.5))\n",
    "\n",
    "Classifier.add(Dense(4, activation='softmax'))\n"
   ]
  },
  {
   "cell_type": "code",
   "execution_count": 17,
   "metadata": {},
   "outputs": [
    {
     "name": "stdout",
     "output_type": "stream",
     "text": [
      "Model: \"sequential\"\n",
      "_________________________________________________________________\n",
      "Layer (type)                 Output Shape              Param #   \n",
      "=================================================================\n",
      "conv2d (Conv2D)              (None, 46, 46, 32)        2432      \n",
      "_________________________________________________________________\n",
      "conv2d_1 (Conv2D)            (None, 42, 42, 32)        25632     \n",
      "_________________________________________________________________\n",
      "max_pooling2d (MaxPooling2D) (None, 21, 21, 32)        0         \n",
      "_________________________________________________________________\n",
      "dropout (Dropout)            (None, 21, 21, 32)        0         \n",
      "_________________________________________________________________\n",
      "conv2d_2 (Conv2D)            (None, 19, 19, 64)        18496     \n",
      "_________________________________________________________________\n",
      "conv2d_3 (Conv2D)            (None, 17, 17, 64)        36928     \n",
      "_________________________________________________________________\n",
      "max_pooling2d_1 (MaxPooling2 (None, 8, 8, 64)          0         \n",
      "_________________________________________________________________\n",
      "dropout_1 (Dropout)          (None, 8, 8, 64)          0         \n",
      "_________________________________________________________________\n",
      "flatten (Flatten)            (None, 4096)              0         \n",
      "_________________________________________________________________\n",
      "dense (Dense)                (None, 256)               1048832   \n",
      "_________________________________________________________________\n",
      "dropout_2 (Dropout)          (None, 256)               0         \n",
      "_________________________________________________________________\n",
      "dense_1 (Dense)              (None, 4)                 1028      \n",
      "=================================================================\n",
      "Total params: 1,133,348\n",
      "Trainable params: 1,133,348\n",
      "Non-trainable params: 0\n",
      "_________________________________________________________________\n"
     ]
    }
   ],
   "source": [
    "# Classifier Analysis\n",
    "\n",
    "Classifier.summary()"
   ]
  },
  {
   "cell_type": "code",
   "execution_count": 18,
   "metadata": {},
   "outputs": [],
   "source": [
    "Classifier.compile(loss='categorical_crossentropy', optimizer='adam', metrics=['accuracy'])"
   ]
  },
  {
   "cell_type": "code",
   "execution_count": 19,
   "metadata": {},
   "outputs": [
    {
     "name": "stdout",
     "output_type": "stream",
     "text": [
      "Epoch 1/15\n",
      "100/100 [==============================] - 26s 242ms/step - loss: 5.3993 - accuracy: 0.3043 - val_loss: 0.6787 - val_accuracy: 0.7163\n",
      "Epoch 2/15\n",
      "100/100 [==============================] - 23s 226ms/step - loss: 0.7632 - accuracy: 0.6879 - val_loss: 0.5362 - val_accuracy: 0.8062\n",
      "Epoch 3/15\n",
      "100/100 [==============================] - 23s 228ms/step - loss: 0.5068 - accuracy: 0.8069 - val_loss: 0.3789 - val_accuracy: 0.8650\n",
      "Epoch 4/15\n",
      "100/100 [==============================] - 23s 225ms/step - loss: 0.4142 - accuracy: 0.8469 - val_loss: 0.4341 - val_accuracy: 0.8325\n",
      "Epoch 5/15\n",
      "100/100 [==============================] - 23s 229ms/step - loss: 0.2939 - accuracy: 0.8981 - val_loss: 0.2413 - val_accuracy: 0.8988\n",
      "Epoch 6/15\n",
      "100/100 [==============================] - 25s 248ms/step - loss: 0.2287 - accuracy: 0.9162 - val_loss: 0.2617 - val_accuracy: 0.9100\n",
      "Epoch 7/15\n",
      "100/100 [==============================] - 24s 235ms/step - loss: 0.2583 - accuracy: 0.9083 - val_loss: 0.2203 - val_accuracy: 0.9137\n",
      "Epoch 8/15\n",
      "100/100 [==============================] - 26s 261ms/step - loss: 0.1727 - accuracy: 0.9415 - val_loss: 0.1375 - val_accuracy: 0.9475\n",
      "Epoch 9/15\n",
      "100/100 [==============================] - 37s 374ms/step - loss: 0.2428 - accuracy: 0.9167 - val_loss: 0.2637 - val_accuracy: 0.9200\n",
      "Epoch 10/15\n",
      "100/100 [==============================] - 40s 397ms/step - loss: 0.1549 - accuracy: 0.9485 - val_loss: 0.1548 - val_accuracy: 0.9388\n",
      "Epoch 11/15\n",
      "100/100 [==============================] - 39s 389ms/step - loss: 0.1502 - accuracy: 0.9416 - val_loss: 0.1946 - val_accuracy: 0.9287\n",
      "Epoch 12/15\n",
      "100/100 [==============================] - 40s 400ms/step - loss: 0.1388 - accuracy: 0.9536 - val_loss: 0.1505 - val_accuracy: 0.9475\n",
      "Epoch 13/15\n",
      "100/100 [==============================] - 40s 400ms/step - loss: 0.1219 - accuracy: 0.9528 - val_loss: 0.1434 - val_accuracy: 0.9600\n",
      "Epoch 14/15\n",
      "100/100 [==============================] - 40s 399ms/step - loss: 0.1371 - accuracy: 0.9478 - val_loss: 0.1575 - val_accuracy: 0.9488\n",
      "Epoch 15/15\n",
      "100/100 [==============================] - 39s 391ms/step - loss: 0.1449 - accuracy: 0.9554 - val_loss: 0.1555 - val_accuracy: 0.9475\n"
     ]
    }
   ],
   "source": [
    "#Fitting the data into model\n",
    "\n",
    "epochs = 15\n",
    "history = Classifier.fit(X_train, y_train, batch_size=32, epochs=epochs, validation_data=(X_test, y_test))\n"
   ]
  },
  {
   "cell_type": "code",
   "execution_count": 20,
   "metadata": {},
   "outputs": [],
   "source": [
    "# Saving the model locally\n",
    "\n",
    "Classifier.save(\"Project1.h5\")"
   ]
  },
  {
   "cell_type": "code",
   "execution_count": 23,
   "metadata": {},
   "outputs": [
    {
     "name": "stdout",
     "output_type": "stream",
     "text": [
      "The train accuracy of the model is\n"
     ]
    },
    {
     "data": {
      "text/plain": [
       "0.8699374993642172"
      ]
     },
     "execution_count": 23,
     "metadata": {},
     "output_type": "execute_result"
    }
   ],
   "source": [
    "#Average accuracy of train data\n",
    "\n",
    "print(\"The train accuracy of the model is\")\n",
    "np.mean(history.history['accuracy'])"
   ]
  },
  {
   "cell_type": "code",
   "execution_count": 24,
   "metadata": {},
   "outputs": [
    {
     "name": "stdout",
     "output_type": "stream",
     "text": [
      "The test accuracy of the model is\n"
     ]
    },
    {
     "data": {
      "text/plain": [
       "0.8987499992052714"
      ]
     },
     "execution_count": 24,
     "metadata": {},
     "output_type": "execute_result"
    }
   ],
   "source": [
    "#Average accuracy of validation data\n",
    "\n",
    "print(\"The test accuracy of the model is\")\n",
    "np.mean(history.history['val_accuracy'])"
   ]
  },
  {
   "cell_type": "code",
   "execution_count": 25,
   "metadata": {},
   "outputs": [
    {
     "name": "stdout",
     "output_type": "stream",
     "text": [
      "(3200,) (3200,)\n",
      "[3 2 2 0 1] [3 2 2 0 1]\n"
     ]
    }
   ],
   "source": [
    "#Train_Report\n",
    "\n",
    "from sklearn.metrics import classification_report\n",
    "\n",
    "# predict \n",
    "pred = Classifier.predict(X_train, batch_size = 32)\n",
    "pred = np.argmax(pred, axis=1)\n",
    "\n",
    "y_train = np.argmax(y_train, axis = 1)\n",
    "print(y_train.shape, pred.shape)\n",
    "print(y_train[:5], pred[:5])\n"
   ]
  },
  {
   "cell_type": "code",
   "execution_count": 26,
   "metadata": {},
   "outputs": [
    {
     "name": "stdout",
     "output_type": "stream",
     "text": [
      "              precision    recall  f1-score   support\n",
      "\n",
      "           0       1.00      0.99      1.00       800\n",
      "           1       0.97      0.99      0.98       800\n",
      "           2       0.98      1.00      0.99       800\n",
      "           3       1.00      0.97      0.98       800\n",
      "\n",
      "    accuracy                           0.99      3200\n",
      "   macro avg       0.99      0.99      0.99      3200\n",
      "weighted avg       0.99      0.99      0.99      3200\n",
      "\n"
     ]
    }
   ],
   "source": [
    "print(classification_report(y_train, pred))\n"
   ]
  },
  {
   "cell_type": "code",
   "execution_count": 29,
   "metadata": {},
   "outputs": [
    {
     "name": "stdout",
     "output_type": "stream",
     "text": [
      "(800,) (800,)\n",
      "[0 1 0 1 0] [1 1 0 1 0]\n"
     ]
    }
   ],
   "source": [
    "#Test_Report\n",
    "\n",
    "from sklearn.metrics import classification_report\n",
    "\n",
    "# predict \n",
    "pred = Classifier.predict(X_test, batch_size = 32)\n",
    "pred = np.argmax(pred, axis=1)\n",
    "\n",
    "y_test = np.argmax(y_test, axis = 1)\n",
    "print(y_test.shape, pred.shape)\n",
    "print(y_test[:5], pred[:5])\n"
   ]
  },
  {
   "cell_type": "code",
   "execution_count": 30,
   "metadata": {},
   "outputs": [
    {
     "name": "stdout",
     "output_type": "stream",
     "text": [
      "              precision    recall  f1-score   support\n",
      "\n",
      "           0       0.99      0.99      0.99       200\n",
      "           1       0.91      0.94      0.92       200\n",
      "           2       0.93      0.98      0.96       200\n",
      "           3       0.97      0.88      0.92       200\n",
      "\n",
      "    accuracy                           0.95       800\n",
      "   macro avg       0.95      0.95      0.95       800\n",
      "weighted avg       0.95      0.95      0.95       800\n",
      "\n"
     ]
    }
   ],
   "source": [
    "print(classification_report(y_test, pred))\n"
   ]
  },
  {
   "cell_type": "code",
   "execution_count": 31,
   "metadata": {},
   "outputs": [
    {
     "name": "stderr",
     "output_type": "stream",
     "text": [
      "c:\\users\\hp\\env\\lib\\site-packages\\tensorflow\\python\\keras\\engine\\sequential.py:450: UserWarning: `model.predict_classes()` is deprecated and will be removed after 2021-01-01. Please use instead:* `np.argmax(model.predict(x), axis=-1)`,   if your model does multi-class classification   (e.g. if it uses a `softmax` last-layer activation).* `(model.predict(x) > 0.5).astype(\"int32\")`,   if your model does binary classification   (e.g. if it uses a `sigmoid` last-layer activation).\n",
      "  warnings.warn('`model.predict_classes()` is deprecated and '\n"
     ]
    },
    {
     "name": "stdout",
     "output_type": "stream",
     "text": [
      "1\n",
      "The class to which the sample leaf belongs to is Bacteria\n"
     ]
    }
   ],
   "source": [
    "# Testing\n",
    "\n",
    "from tensorflow.keras.models import load_model\n",
    "IMG_SIZE = 50\n",
    "#Loading the saved model\n",
    "model = load_model(r\"Project1.h5\")\n",
    "\n",
    "#Uploading image of a leaf which belongs to class of Bacteria\n",
    "file_path = 'C:/Users/hp/Downloads/PlantDiseaseDetection-master/PlantDiseaseDetection-master/train/train/b (1).jpg'\n",
    "image = Image.open(file_path)\n",
    "image = image.resize((50,50))\n",
    "image = np.expand_dims(image, axis=0)\n",
    "image = np.array(image) \n",
    "\n",
    "#Using predict_classes for predicting the class of image\n",
    "pred = model.predict_classes([image])[0]\n",
    "\n",
    "\n",
    "print(pred)\n",
    "if pred == 0:\n",
    "    print(\"The class to which the sample leaf belongs to is Healthy\")\n",
    "elif pred == 1:\n",
    "    print(\"The class to which the sample leaf belongs to is Bacteria\")\n",
    "elif pred == 2:\n",
    "    print(\"The class to which the sample leaf belongs to is Viral\")\n",
    "elif pred == 3:\n",
    "    print(\"The class to which the sample leaf belongs to is Lateblight\")"
   ]
  },
  {
   "cell_type": "code",
   "execution_count": null,
   "metadata": {},
   "outputs": [],
   "source": []
  }
 ],
 "metadata": {
  "colab": {
   "collapsed_sections": [],
   "name": "PlantDiseaseDetection.ipynb",
   "provenance": []
  },
  "kernelspec": {
   "display_name": "Python 3",
   "language": "python",
   "name": "python3"
  },
  "language_info": {
   "codemirror_mode": {
    "name": "ipython",
    "version": 3
   },
   "file_extension": ".py",
   "mimetype": "text/x-python",
   "name": "python",
   "nbconvert_exporter": "python",
   "pygments_lexer": "ipython3",
   "version": "3.8.6rc1"
  }
 },
 "nbformat": 4,
 "nbformat_minor": 4
}
